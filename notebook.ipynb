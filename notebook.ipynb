{
 "cells": [
  {
   "cell_type": "markdown",
   "metadata": {},
   "source": [
    "# title1"
   ]
  },
  {
   "cell_type": "markdown",
   "metadata": {},
   "source": [
    "aaaaa"
   ]
  },
  {
   "cell_type": "code",
   "execution_count": 2,
   "metadata": {},
   "outputs": [],
   "source": [
    "import win32gui, win32ui, win32con, win32api"
   ]
  },
  {
   "cell_type": "code",
   "execution_count": 3,
   "metadata": {},
   "outputs": [],
   "source": [
    "bmpSize = (50,15)"
   ]
  },
  {
   "cell_type": "code",
   "execution_count": 5,
   "metadata": {},
   "outputs": [
    {
     "data": {
      "text/plain": [
       "object 'PyCBitmap' - assoc is 0000000A1B225688, vi=<None>"
      ]
     },
     "execution_count": 5,
     "metadata": {},
     "output_type": "execute_result"
    }
   ],
   "source": [
    "hwnd = 0  # 窗口的编号，0号表示当前活跃窗口\n",
    "# 根据窗口句柄获取窗口的设备上下文DC（Divice Context）\n",
    "hwndDC = win32gui.GetWindowDC(hwnd)\n",
    "# 根据窗口的DC获取mfcDC\n",
    "mfcDC = win32ui.CreateDCFromHandle(hwndDC)\n",
    "# mfcDC创建可兼容的DC\n",
    "saveDC = mfcDC.CreateCompatibleDC()\n",
    "# 创建bigmap准备保存图片\n",
    "saveBitMap = win32ui.CreateBitmap()\n",
    "# 为bitmap开辟空间\n",
    "saveBitMap.CreateCompatibleBitmap(mfcDC, bmpSize[0], bmpSize[1])\n",
    "# 高度saveDC，将截图保存到saveBitmap中\n",
    "saveDC.SelectObject(saveBitMap)"
   ]
  },
  {
   "cell_type": "code",
   "execution_count": 4,
   "metadata": {},
   "outputs": [
    {
     "name": "stdout",
     "output_type": "stream",
     "text": [
      "object 'PyCDC' - assoc is 00000087FFBD8908, vi=<None>\n"
     ]
    }
   ],
   "source": [
    "print(saveDC)"
   ]
  },
  {
   "cell_type": "code",
   "execution_count": 5,
   "metadata": {},
   "outputs": [],
   "source": []
  },
  {
   "cell_type": "code",
   "execution_count": 6,
   "metadata": {},
   "outputs": [
    {
     "ename": "NameError",
     "evalue": "name 'builtins' is not defined",
     "output_type": "error",
     "traceback": [
      "\u001b[1;31m---------------------------------------------------------------------------\u001b[0m",
      "\u001b[1;31mNameError\u001b[0m                                 Traceback (most recent call last)",
      "\u001b[1;32m<ipython-input-6-765432f88224>\u001b[0m in \u001b[0;36m<module>\u001b[1;34m()\u001b[0m\n\u001b[1;32m----> 1\u001b[1;33m \u001b[0mhelp\u001b[0m\u001b[1;33m(\u001b[0m\u001b[0mbuiltins\u001b[0m\u001b[1;33m.\u001b[0m\u001b[0mPyCDC\u001b[0m\u001b[1;33m.\u001b[0m\u001b[0mBitBlt\u001b[0m\u001b[1;33m)\u001b[0m\u001b[1;33m\u001b[0m\u001b[0m\n\u001b[0m",
      "\u001b[1;31mNameError\u001b[0m: name 'builtins' is not defined"
     ]
    }
   ],
   "source": [
    "help(builtins.PyCDC.BitBlt)"
   ]
  },
  {
   "cell_type": "code",
   "execution_count": null,
   "metadata": {},
   "outputs": [],
   "source": []
  }
 ],
 "metadata": {
  "kernelspec": {
   "display_name": "Python 3",
   "language": "python",
   "name": "python3"
  },
  "language_info": {
   "codemirror_mode": {
    "name": "ipython",
    "version": 3
   },
   "file_extension": ".py",
   "mimetype": "text/x-python",
   "name": "python",
   "nbconvert_exporter": "python",
   "pygments_lexer": "ipython3",
   "version": "3.5.2"
  }
 },
 "nbformat": 4,
 "nbformat_minor": 1
}

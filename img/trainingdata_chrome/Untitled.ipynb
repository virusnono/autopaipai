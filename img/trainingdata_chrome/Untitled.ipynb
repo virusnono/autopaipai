{
 "cells": [
  {
   "cell_type": "code",
   "execution_count": 10,
   "metadata": {},
   "outputs": [],
   "source": [
    "import os"
   ]
  },
  {
   "cell_type": "code",
   "execution_count": 11,
   "metadata": {},
   "outputs": [
    {
     "data": {
      "text/plain": [
       "[None,\n",
       " None,\n",
       " None,\n",
       " None,\n",
       " None,\n",
       " None,\n",
       " None,\n",
       " None,\n",
       " None,\n",
       " None,\n",
       " None,\n",
       " None,\n",
       " None,\n",
       " None,\n",
       " None,\n",
       " None,\n",
       " None,\n",
       " None,\n",
       " None,\n",
       " None,\n",
       " None,\n",
       " None,\n",
       " None,\n",
       " None,\n",
       " None,\n",
       " None,\n",
       " None,\n",
       " None,\n",
       " None,\n",
       " None,\n",
       " None,\n",
       " None,\n",
       " None,\n",
       " None,\n",
       " None,\n",
       " None,\n",
       " None,\n",
       " None,\n",
       " None,\n",
       " None,\n",
       " None,\n",
       " None,\n",
       " None,\n",
       " None,\n",
       " None]"
      ]
     },
     "execution_count": 11,
     "metadata": {},
     "output_type": "execute_result"
    }
   ],
   "source": [
    "[os.rename(x, os.path.splitext(x)[0] + '.bmp') for x in os.listdir('.') if os.path.splitext(x)[1] == '.tiff']"
   ]
  },
  {
   "cell_type": "code",
   "execution_count": 7,
   "metadata": {},
   "outputs": [
    {
     "data": {
      "text/plain": [
       "['86600.tiff',\n",
       " '86900.tiff',\n",
       " '87200.tiff',\n",
       " '91700.tiff',\n",
       " '91800.tiff',\n",
       " '91900.tiff',\n",
       " '92000.tiff',\n",
       " '92100.tiff',\n",
       " '92200.tiff',\n",
       " '92300.tiff',\n",
       " '92400.tiff',\n",
       " '92500.tiff',\n",
       " '92600.tiff',\n",
       " '92700.tiff',\n",
       " '92800.tiff',\n",
       " '92900.tiff',\n",
       " '93000.tiff',\n",
       " '93100.tiff',\n",
       " '93200.tiff',\n",
       " '93300.tiff',\n",
       " '93400.tiff',\n",
       " '93500.tiff',\n",
       " '93600.tiff',\n",
       " '93700.tiff',\n",
       " '93800.tiff',\n",
       " '93900.tiff',\n",
       " '94000.tiff',\n",
       " '94100.tiff',\n",
       " '94200.tiff',\n",
       " '94300.tiff',\n",
       " '94400.tiff',\n",
       " '94500.tiff',\n",
       " '94600.tiff',\n",
       " '94700.tiff',\n",
       " '94800.tiff',\n",
       " '94900.tiff',\n",
       " '95000.tiff',\n",
       " '95100.tiff',\n",
       " 'B6600.tiff',\n",
       " 'B6700.tiff',\n",
       " 'B6800.tiff',\n",
       " 'B6900.tiff',\n",
       " 'B7600.tiff',\n",
       " 'B7700.tiff',\n",
       " 'B7800.tiff']"
      ]
     },
     "execution_count": 7,
     "metadata": {},
     "output_type": "execute_result"
    }
   ],
   "source": [
    "[x for x in os.listdir('.') if os.path.splitext(x)[1] == '.tiff']"
   ]
  }
 ],
 "metadata": {
  "kernelspec": {
   "display_name": "Python 3",
   "language": "python",
   "name": "python3"
  },
  "language_info": {
   "codemirror_mode": {
    "name": "ipython",
    "version": 3
   },
   "file_extension": ".py",
   "mimetype": "text/x-python",
   "name": "python",
   "nbconvert_exporter": "python",
   "pygments_lexer": "ipython3",
   "version": "3.5.2"
  }
 },
 "nbformat": 4,
 "nbformat_minor": 2
}
